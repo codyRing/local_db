{
 "cells": [
  {
   "cell_type": "code",
   "execution_count": 1,
   "metadata": {},
   "outputs": [],
   "source": [
    "import pandas as pd\n",
    "from pathlib import Path\n",
    "import fuzzymatcher\n",
    "from resources import db_connect\n",
    "from datetime import datetime\n",
    "from dateutil.relativedelta import relativedelta\n",
    "import sqlalchemy\n",
    "import pytz\n",
    "import numpy as np\n",
    "\n",
    "import uuid\n"
   ]
  },
  {
   "cell_type": "code",
   "execution_count": 2,
   "metadata": {},
   "outputs": [],
   "source": [
    "main = db_connect('main')\n",
    "\n",
    "dtypes = {\"trans_date\":sqlalchemy.Date()\n",
    "}"
   ]
  },
  {
   "cell_type": "code",
   "execution_count": 3,
   "metadata": {},
   "outputs": [],
   "source": [
    "d = datetime.today() \n",
    "d = d - relativedelta(months=12)"
   ]
  },
  {
   "cell_type": "code",
   "execution_count": 4,
   "metadata": {},
   "outputs": [
    {
     "data": {
      "text/plain": [
       "datetime.datetime(2020, 6, 10, 11, 21, 12, 641040)"
      ]
     },
     "execution_count": 4,
     "metadata": {},
     "output_type": "execute_result"
    }
   ],
   "source": [
    "d"
   ]
  },
  {
   "cell_type": "code",
   "execution_count": 5,
   "metadata": {},
   "outputs": [],
   "source": [
    "hdrs = [\"trans_date\",\"description\",\"original_description\",\"amount\",\"transaction_type\",\"category\",\"account_name\",\"labels\",\"notes\",'recid','start_date']"
   ]
  },
  {
   "cell_type": "code",
   "execution_count": 6,
   "metadata": {},
   "outputs": [],
   "source": [
    "transactions_mapped = pd.read_sql('select * from mint.transactions_history'\n",
    "                             , con=main.conn\n",
    "                             , parse_dates=['trans_date']\n",
    "                             )"
   ]
  },
  {
   "cell_type": "code",
   "execution_count": 7,
   "metadata": {},
   "outputs": [],
   "source": [
    "transactions_mapped= transactions_mapped[(transactions_mapped['trans_date'] > d)]"
   ]
  },
  {
   "cell_type": "code",
   "execution_count": 8,
   "metadata": {},
   "outputs": [],
   "source": [
    "# transactions_mapped['recid'] = transactions_mapped['recid'].astype('str') \n",
    "transactions_mapped['recid']=transactions_mapped.recid.apply(str)\n"
   ]
  },
  {
   "cell_type": "code",
   "execution_count": 9,
   "metadata": {},
   "outputs": [],
   "source": [
    "# mapped_limit = [max(transactions_mapped['trans_date']),min(transactions_mapped['trans_date'])]\n",
    "mapped_limit = max(transactions_mapped['trans_date'])"
   ]
  },
  {
   "cell_type": "code",
   "execution_count": 10,
   "metadata": {},
   "outputs": [
    {
     "data": {
      "text/plain": [
       "Timestamp('2021-06-03 00:00:00')"
      ]
     },
     "execution_count": 10,
     "metadata": {},
     "output_type": "execute_result"
    }
   ],
   "source": [
    "mapped_limit"
   ]
  },
  {
   "cell_type": "code",
   "execution_count": 11,
   "metadata": {},
   "outputs": [],
   "source": [
    "transactions_unmapped = pd.read_csv('D:/Git/local_db/personal/data/mint/transactions.csv',parse_dates=['date'])\n",
    "transactions_unmapped.rename(columns = {'date':'trans_date'},inplace=True)\n",
    "u = datetime.utcnow()\n",
    "u = u.replace(tzinfo = pytz.utc)\n",
    "transactions_unmapped['start_date'] = u \n",
    "\n"
   ]
  },
  {
   "cell_type": "code",
   "execution_count": 12,
   "metadata": {},
   "outputs": [],
   "source": [
    "transactions_unmapped['recid'] = [uuid.uuid4() for _ in range(len(transactions_unmapped.index))]\n",
    "transactions_unmapped['recid']=transactions_unmapped.recid.apply(str)"
   ]
  },
  {
   "cell_type": "code",
   "execution_count": 13,
   "metadata": {},
   "outputs": [],
   "source": [
    "transactions_new = transactions_unmapped[(transactions_unmapped['trans_date'] > mapped_limit)]"
   ]
  },
  {
   "cell_type": "code",
   "execution_count": 14,
   "metadata": {},
   "outputs": [
    {
     "data": {
      "text/html": [
       "<div>\n",
       "<style scoped>\n",
       "    .dataframe tbody tr th:only-of-type {\n",
       "        vertical-align: middle;\n",
       "    }\n",
       "\n",
       "    .dataframe tbody tr th {\n",
       "        vertical-align: top;\n",
       "    }\n",
       "\n",
       "    .dataframe thead th {\n",
       "        text-align: right;\n",
       "    }\n",
       "</style>\n",
       "<table border=\"1\" class=\"dataframe\">\n",
       "  <thead>\n",
       "    <tr style=\"text-align: right;\">\n",
       "      <th></th>\n",
       "      <th>trans_date</th>\n",
       "      <th>description</th>\n",
       "      <th>original_description</th>\n",
       "      <th>amount</th>\n",
       "      <th>transaction_type</th>\n",
       "      <th>category</th>\n",
       "      <th>account_name</th>\n",
       "      <th>labels</th>\n",
       "      <th>notes</th>\n",
       "      <th>start_date</th>\n",
       "      <th>recid</th>\n",
       "    </tr>\n",
       "  </thead>\n",
       "  <tbody>\n",
       "    <tr>\n",
       "      <th>0</th>\n",
       "      <td>2021-06-10</td>\n",
       "      <td>CHURCHK EY PUB EDMONDS WA</td>\n",
       "      <td>POS DEBIT                CHURCHK</td>\n",
       "      <td>40.91</td>\n",
       "      <td>debit</td>\n",
       "      <td>Restaurants</td>\n",
       "      <td>PREMIER PLUS CKG</td>\n",
       "      <td>NaN</td>\n",
       "      <td>NaN</td>\n",
       "      <td>2021-06-10 18:22:00.084606+00:00</td>\n",
       "      <td>a8d0e299-c904-4e10-9ab1-c10b5a1df0d2</td>\n",
       "    </tr>\n",
       "    <tr>\n",
       "      <th>1</th>\n",
       "      <td>2021-06-10</td>\n",
       "      <td>Amazon</td>\n",
       "      <td>POS DEBIT                AMZN Mk</td>\n",
       "      <td>31.95</td>\n",
       "      <td>debit</td>\n",
       "      <td>Shopping</td>\n",
       "      <td>PREMIER PLUS CKG</td>\n",
       "      <td>NaN</td>\n",
       "      <td>Earbuds</td>\n",
       "      <td>2021-06-10 18:22:00.084606+00:00</td>\n",
       "      <td>8326401d-a1b5-4ad8-8edc-098610fb5380</td>\n",
       "    </tr>\n",
       "    <tr>\n",
       "      <th>2</th>\n",
       "      <td>2021-06-09</td>\n",
       "      <td>Trade</td>\n",
       "      <td>TRADE COFFEE CO DRINKTRADE.CO MA</td>\n",
       "      <td>25.00</td>\n",
       "      <td>debit</td>\n",
       "      <td>Coffee Shops</td>\n",
       "      <td>PREMIER PLUS CKG</td>\n",
       "      <td>NaN</td>\n",
       "      <td>NaN</td>\n",
       "      <td>2021-06-10 18:22:00.084606+00:00</td>\n",
       "      <td>03e419f4-c003-470f-9a47-f226256cf846</td>\n",
       "    </tr>\n",
       "    <tr>\n",
       "      <th>3</th>\n",
       "      <td>2021-06-09</td>\n",
       "      <td>TEKSYSTEMS, INC. DIR DEP PPD ID: 5522010575</td>\n",
       "      <td>TEKSYSTEMS, INC. DIR DEP</td>\n",
       "      <td>1069.62</td>\n",
       "      <td>credit</td>\n",
       "      <td>Paycheck</td>\n",
       "      <td>PREMIER PLUS CKG</td>\n",
       "      <td>NaN</td>\n",
       "      <td>NaN</td>\n",
       "      <td>2021-06-10 18:22:00.084606+00:00</td>\n",
       "      <td>5dcb3760-d207-43c2-8407-2292434c695d</td>\n",
       "    </tr>\n",
       "    <tr>\n",
       "      <th>4</th>\n",
       "      <td>2021-06-09</td>\n",
       "      <td>ONLYFANS 888-6880458 FL</td>\n",
       "      <td>ONLYFANS                 888-6880458  FL</td>\n",
       "      <td>4.37</td>\n",
       "      <td>debit</td>\n",
       "      <td>Entertainment</td>\n",
       "      <td>Alaska Airlines Visa Signature</td>\n",
       "      <td>NaN</td>\n",
       "      <td>NaN</td>\n",
       "      <td>2021-06-10 18:22:00.084606+00:00</td>\n",
       "      <td>2f556152-e9c4-45ce-a505-3fc18a46eb52</td>\n",
       "    </tr>\n",
       "    <tr>\n",
       "      <th>5</th>\n",
       "      <td>2021-06-08</td>\n",
       "      <td>TWP*SUB2873298 WAPO.COM DC 06/07</td>\n",
       "      <td>TWP*SUB2873298 WAPO.COM DC</td>\n",
       "      <td>9.99</td>\n",
       "      <td>debit</td>\n",
       "      <td>Subscription_Service</td>\n",
       "      <td>PREMIER PLUS CKG</td>\n",
       "      <td>NaN</td>\n",
       "      <td>NaN</td>\n",
       "      <td>2021-06-10 18:22:00.084606+00:00</td>\n",
       "      <td>d5c30527-a887-492b-95a0-8c95385bff63</td>\n",
       "    </tr>\n",
       "    <tr>\n",
       "      <th>6</th>\n",
       "      <td>2021-06-07</td>\n",
       "      <td>BK OF AMER VISA ONLINE payment CKF9 58241099PO...</td>\n",
       "      <td>BK OF AMER VISA  ONLINE PMT CKF9</td>\n",
       "      <td>27.57</td>\n",
       "      <td>debit</td>\n",
       "      <td>Credit Card Payment</td>\n",
       "      <td>PREMIER PLUS CKG</td>\n",
       "      <td>NaN</td>\n",
       "      <td>NaN</td>\n",
       "      <td>2021-06-10 18:22:00.084606+00:00</td>\n",
       "      <td>3db35441-fbfc-4cc3-8e09-70af00307652</td>\n",
       "    </tr>\n",
       "    <tr>\n",
       "      <th>7</th>\n",
       "      <td>2021-06-07</td>\n",
       "      <td>PERSHING BROKERAGE PPD ID: 1132741729</td>\n",
       "      <td>PERSHING         BROKERAGE</td>\n",
       "      <td>4000.00</td>\n",
       "      <td>debit</td>\n",
       "      <td>Financial Advisor</td>\n",
       "      <td>PREMIER PLUS CKG</td>\n",
       "      <td>NaN</td>\n",
       "      <td>NaN</td>\n",
       "      <td>2021-06-10 18:22:00.084606+00:00</td>\n",
       "      <td>d34dc8fd-5594-47c3-a883-5d6be8b4b053</td>\n",
       "    </tr>\n",
       "    <tr>\n",
       "      <th>8</th>\n",
       "      <td>2021-06-07</td>\n",
       "      <td>XHALE GAL 127 N 85TH S SEATTLE W A 06/07</td>\n",
       "      <td>XHALE GAL 127 N 85TH S SEATTLE W</td>\n",
       "      <td>19.83</td>\n",
       "      <td>debit</td>\n",
       "      <td>Entertainment</td>\n",
       "      <td>PREMIER PLUS CKG</td>\n",
       "      <td>NaN</td>\n",
       "      <td>NaN</td>\n",
       "      <td>2021-06-10 18:22:00.084606+00:00</td>\n",
       "      <td>a5aaf1b7-d2aa-4967-a2bf-58bec90fa9ce</td>\n",
       "    </tr>\n",
       "    <tr>\n",
       "      <th>9</th>\n",
       "      <td>2021-06-07</td>\n",
       "      <td>Google</td>\n",
       "      <td>GOOGLE*GOOGLE FI SUPPORT.GOOGL C</td>\n",
       "      <td>55.87</td>\n",
       "      <td>debit</td>\n",
       "      <td>Mobile Phone</td>\n",
       "      <td>PREMIER PLUS CKG</td>\n",
       "      <td>NaN</td>\n",
       "      <td>NaN</td>\n",
       "      <td>2021-06-10 18:22:00.084606+00:00</td>\n",
       "      <td>dfdaf69d-c197-415c-9c51-0571c3bcb209</td>\n",
       "    </tr>\n",
       "    <tr>\n",
       "      <th>10</th>\n",
       "      <td>2021-06-07</td>\n",
       "      <td>BA ELECTRONIC PAYMENT</td>\n",
       "      <td>BA ELECTRONIC PAYMENT</td>\n",
       "      <td>27.57</td>\n",
       "      <td>credit</td>\n",
       "      <td>Credit Card Payment</td>\n",
       "      <td>Alaska Airlines Visa Signature</td>\n",
       "      <td>NaN</td>\n",
       "      <td>NaN</td>\n",
       "      <td>2021-06-10 18:22:00.084606+00:00</td>\n",
       "      <td>8cd3ac4f-3c9e-48f3-8b47-7ef43ae963d4</td>\n",
       "    </tr>\n",
       "    <tr>\n",
       "      <th>11</th>\n",
       "      <td>2021-06-04</td>\n",
       "      <td>Title Boxing Club</td>\n",
       "      <td>TITLE BOXING  CLUB SANTA MONICA</td>\n",
       "      <td>150.00</td>\n",
       "      <td>debit</td>\n",
       "      <td>Gym</td>\n",
       "      <td>PREMIER PLUS CKG</td>\n",
       "      <td>NaN</td>\n",
       "      <td>NaN</td>\n",
       "      <td>2021-06-10 18:22:00.084606+00:00</td>\n",
       "      <td>69bab20d-c9fc-4d4c-8779-b037e4c68a85</td>\n",
       "    </tr>\n",
       "    <tr>\n",
       "      <th>12</th>\n",
       "      <td>2021-06-04</td>\n",
       "      <td>Lenny's Produce</td>\n",
       "      <td>LENNYS PRODUCE SEATTLE WA</td>\n",
       "      <td>12.49</td>\n",
       "      <td>debit</td>\n",
       "      <td>Groceries</td>\n",
       "      <td>PREMIER PLUS CKG</td>\n",
       "      <td>NaN</td>\n",
       "      <td>NaN</td>\n",
       "      <td>2021-06-10 18:22:00.084606+00:00</td>\n",
       "      <td>5f6c33cd-033a-46eb-95f7-b2c15ffe8879</td>\n",
       "    </tr>\n",
       "    <tr>\n",
       "      <th>13</th>\n",
       "      <td>2021-06-04</td>\n",
       "      <td>COINBASE.COM 8889087930 W4MZ PWNF80B7 WEB ID: ...</td>\n",
       "      <td>COINBASE.COM     8889087930 W4MZ</td>\n",
       "      <td>1015.00</td>\n",
       "      <td>debit</td>\n",
       "      <td>Financial Advisor</td>\n",
       "      <td>PREMIER PLUS CKG</td>\n",
       "      <td>NaN</td>\n",
       "      <td>NaN</td>\n",
       "      <td>2021-06-10 18:22:00.084606+00:00</td>\n",
       "      <td>0ab3d4d8-5928-4282-812a-614741e17a51</td>\n",
       "    </tr>\n",
       "    <tr>\n",
       "      <th>14</th>\n",
       "      <td>2021-06-04</td>\n",
       "      <td>Flying J</td>\n",
       "      <td>FLYING BIKE COOPERATIVE SEATTLE</td>\n",
       "      <td>120.76</td>\n",
       "      <td>debit</td>\n",
       "      <td>Alcohol &amp; Bars</td>\n",
       "      <td>PREMIER PLUS CKG</td>\n",
       "      <td>NaN</td>\n",
       "      <td>NaN</td>\n",
       "      <td>2021-06-10 18:22:00.084606+00:00</td>\n",
       "      <td>06843320-7496-4f84-9677-5da7b00dfd46</td>\n",
       "    </tr>\n",
       "  </tbody>\n",
       "</table>\n",
       "</div>"
      ],
      "text/plain": [
       "   trans_date                                        description  \\\n",
       "0  2021-06-10                          CHURCHK EY PUB EDMONDS WA   \n",
       "1  2021-06-10                                             Amazon   \n",
       "2  2021-06-09                                              Trade   \n",
       "3  2021-06-09        TEKSYSTEMS, INC. DIR DEP PPD ID: 5522010575   \n",
       "4  2021-06-09                            ONLYFANS 888-6880458 FL   \n",
       "5  2021-06-08                   TWP*SUB2873298 WAPO.COM DC 06/07   \n",
       "6  2021-06-07  BK OF AMER VISA ONLINE payment CKF9 58241099PO...   \n",
       "7  2021-06-07              PERSHING BROKERAGE PPD ID: 1132741729   \n",
       "8  2021-06-07           XHALE GAL 127 N 85TH S SEATTLE W A 06/07   \n",
       "9  2021-06-07                                             Google   \n",
       "10 2021-06-07                              BA ELECTRONIC PAYMENT   \n",
       "11 2021-06-04                                  Title Boxing Club   \n",
       "12 2021-06-04                                    Lenny's Produce   \n",
       "13 2021-06-04  COINBASE.COM 8889087930 W4MZ PWNF80B7 WEB ID: ...   \n",
       "14 2021-06-04                                           Flying J   \n",
       "\n",
       "                        original_description   amount transaction_type  \\\n",
       "0           POS DEBIT                CHURCHK    40.91            debit   \n",
       "1           POS DEBIT                AMZN Mk    31.95            debit   \n",
       "2           TRADE COFFEE CO DRINKTRADE.CO MA    25.00            debit   \n",
       "3                   TEKSYSTEMS, INC. DIR DEP  1069.62           credit   \n",
       "4   ONLYFANS                 888-6880458  FL     4.37            debit   \n",
       "5                 TWP*SUB2873298 WAPO.COM DC     9.99            debit   \n",
       "6           BK OF AMER VISA  ONLINE PMT CKF9    27.57            debit   \n",
       "7                 PERSHING         BROKERAGE  4000.00            debit   \n",
       "8           XHALE GAL 127 N 85TH S SEATTLE W    19.83            debit   \n",
       "9           GOOGLE*GOOGLE FI SUPPORT.GOOGL C    55.87            debit   \n",
       "10                     BA ELECTRONIC PAYMENT    27.57           credit   \n",
       "11           TITLE BOXING  CLUB SANTA MONICA   150.00            debit   \n",
       "12                 LENNYS PRODUCE SEATTLE WA    12.49            debit   \n",
       "13          COINBASE.COM     8889087930 W4MZ  1015.00            debit   \n",
       "14           FLYING BIKE COOPERATIVE SEATTLE   120.76            debit   \n",
       "\n",
       "                category                    account_name labels    notes  \\\n",
       "0            Restaurants                PREMIER PLUS CKG    NaN      NaN   \n",
       "1               Shopping                PREMIER PLUS CKG    NaN  Earbuds   \n",
       "2           Coffee Shops                PREMIER PLUS CKG    NaN      NaN   \n",
       "3               Paycheck                PREMIER PLUS CKG    NaN      NaN   \n",
       "4          Entertainment  Alaska Airlines Visa Signature    NaN      NaN   \n",
       "5   Subscription_Service                PREMIER PLUS CKG    NaN      NaN   \n",
       "6    Credit Card Payment                PREMIER PLUS CKG    NaN      NaN   \n",
       "7      Financial Advisor                PREMIER PLUS CKG    NaN      NaN   \n",
       "8          Entertainment                PREMIER PLUS CKG    NaN      NaN   \n",
       "9           Mobile Phone                PREMIER PLUS CKG    NaN      NaN   \n",
       "10   Credit Card Payment  Alaska Airlines Visa Signature    NaN      NaN   \n",
       "11                   Gym                PREMIER PLUS CKG    NaN      NaN   \n",
       "12             Groceries                PREMIER PLUS CKG    NaN      NaN   \n",
       "13     Financial Advisor                PREMIER PLUS CKG    NaN      NaN   \n",
       "14        Alcohol & Bars                PREMIER PLUS CKG    NaN      NaN   \n",
       "\n",
       "                         start_date                                 recid  \n",
       "0  2021-06-10 18:22:00.084606+00:00  a8d0e299-c904-4e10-9ab1-c10b5a1df0d2  \n",
       "1  2021-06-10 18:22:00.084606+00:00  8326401d-a1b5-4ad8-8edc-098610fb5380  \n",
       "2  2021-06-10 18:22:00.084606+00:00  03e419f4-c003-470f-9a47-f226256cf846  \n",
       "3  2021-06-10 18:22:00.084606+00:00  5dcb3760-d207-43c2-8407-2292434c695d  \n",
       "4  2021-06-10 18:22:00.084606+00:00  2f556152-e9c4-45ce-a505-3fc18a46eb52  \n",
       "5  2021-06-10 18:22:00.084606+00:00  d5c30527-a887-492b-95a0-8c95385bff63  \n",
       "6  2021-06-10 18:22:00.084606+00:00  3db35441-fbfc-4cc3-8e09-70af00307652  \n",
       "7  2021-06-10 18:22:00.084606+00:00  d34dc8fd-5594-47c3-a883-5d6be8b4b053  \n",
       "8  2021-06-10 18:22:00.084606+00:00  a5aaf1b7-d2aa-4967-a2bf-58bec90fa9ce  \n",
       "9  2021-06-10 18:22:00.084606+00:00  dfdaf69d-c197-415c-9c51-0571c3bcb209  \n",
       "10 2021-06-10 18:22:00.084606+00:00  8cd3ac4f-3c9e-48f3-8b47-7ef43ae963d4  \n",
       "11 2021-06-10 18:22:00.084606+00:00  69bab20d-c9fc-4d4c-8779-b037e4c68a85  \n",
       "12 2021-06-10 18:22:00.084606+00:00  5f6c33cd-033a-46eb-95f7-b2c15ffe8879  \n",
       "13 2021-06-10 18:22:00.084606+00:00  0ab3d4d8-5928-4282-812a-614741e17a51  \n",
       "14 2021-06-10 18:22:00.084606+00:00  06843320-7496-4f84-9677-5da7b00dfd46  "
      ]
     },
     "execution_count": 14,
     "metadata": {},
     "output_type": "execute_result"
    }
   ],
   "source": [
    "transactions_new"
   ]
  },
  {
   "cell_type": "code",
   "execution_count": 15,
   "metadata": {},
   "outputs": [],
   "source": [
    "dtypes = {\"trans_date\":sqlalchemy.Date()\n",
    "}"
   ]
  },
  {
   "cell_type": "code",
   "execution_count": 16,
   "metadata": {},
   "outputs": [],
   "source": [
    "## Write these to mint.transactions_history\n",
    "transactions_new.to_sql(name='transactions_history',\n",
    "                        con=main.engine\n",
    "                        ,schema='mint'\n",
    "                        ,if_exists='append'\n",
    "                        ,dtype=dtypes\n",
    "                        ,index=False)"
   ]
  },
  {
   "cell_type": "code",
   "execution_count": 17,
   "metadata": {},
   "outputs": [],
   "source": [
    "transactions_unmapped = transactions_unmapped[(transactions_unmapped['trans_date'] > d) &\n",
    "                                              (transactions_unmapped['trans_date'] < mapped_limit)]"
   ]
  },
  {
   "cell_type": "code",
   "execution_count": 18,
   "metadata": {},
   "outputs": [],
   "source": [
    "# transactions_unmapped.sort_values(by='trans_date',ascending=False)"
   ]
  },
  {
   "cell_type": "code",
   "execution_count": 19,
   "metadata": {},
   "outputs": [],
   "source": [
    "lon = ['trans_date','description','original_description','amount','transaction_type','category','account_name','labels','notes']\n",
    "ron = ['trans_date','description','original_description','amount','transaction_type','category','account_name','labels','notes']\n"
   ]
  },
  {
   "cell_type": "code",
   "execution_count": null,
   "metadata": {},
   "outputs": [],
   "source": []
  },
  {
   "cell_type": "code",
   "execution_count": 20,
   "metadata": {},
   "outputs": [],
   "source": [
    "matched_results = fuzzymatcher.fuzzy_left_join(\n",
    "                                            df_left= transactions_mapped,\n",
    "                                            df_right= transactions_unmapped,\n",
    "                                            left_on = lon,\n",
    "                                            right_on = ron,\n",
    "                                            left_id_col='recid',\n",
    "                                            right_id_col='recid')"
   ]
  },
  {
   "cell_type": "code",
   "execution_count": 21,
   "metadata": {},
   "outputs": [
    {
     "data": {
      "text/plain": [
       "count    933.000000\n",
       "mean       1.932954\n",
       "std        0.586822\n",
       "min       -1.149368\n",
       "25%        1.526416\n",
       "50%        1.850074\n",
       "75%        2.218059\n",
       "max        4.375674\n",
       "Name: best_match_score, dtype: float64"
      ]
     },
     "execution_count": 21,
     "metadata": {},
     "output_type": "execute_result"
    }
   ],
   "source": [
    "matched_results.best_match_score.describe()\n"
   ]
  },
  {
   "cell_type": "code",
   "execution_count": 22,
   "metadata": {},
   "outputs": [
    {
     "name": "stdout",
     "output_type": "stream",
     "text": [
      "933\n"
     ]
    }
   ],
   "source": [
    "print(len(matched_results))"
   ]
  },
  {
   "cell_type": "code",
   "execution_count": 23,
   "metadata": {},
   "outputs": [],
   "source": [
    "matched_results = matched_results[matched_results['best_match_score']>=1.579446]"
   ]
  },
  {
   "cell_type": "code",
   "execution_count": 24,
   "metadata": {},
   "outputs": [
    {
     "name": "stdout",
     "output_type": "stream",
     "text": [
      "648\n"
     ]
    }
   ],
   "source": [
    "print(len(matched_results))"
   ]
  },
  {
   "cell_type": "code",
   "execution_count": 25,
   "metadata": {},
   "outputs": [],
   "source": [
    "# {c:i for i ,c in enumerate(matched_results.columns)}\n",
    "fields = {\n",
    "'best_match_score': 0,\n",
    " '__id_left': 'recid',\n",
    " '__id_right': 2,\n",
    " 'trans_date_left': 'trans_date',\n",
    " 'description_left': 4,\n",
    " 'original_description_left': 5,\n",
    " 'amount_left': 'amount',\n",
    " 'transaction_type_left': 'transaction_type',\n",
    " 'category_left': 8,\n",
    " 'account_name_left': 'account_name',\n",
    " 'labels_left': 10,\n",
    " 'notes_left': 11,\n",
    " 'recid_left': 12,\n",
    " 'start_date_left': 13,\n",
    " 'trans_date_right': 14,\n",
    " 'description_right': 'description',\n",
    " 'original_description_right': 'original_description',\n",
    " 'amount_right': 17,\n",
    " 'transaction_type_right': 18,\n",
    " 'category_right': 'category',\n",
    " 'account_name_right': 20,\n",
    " 'labels_right': 'labels',\n",
    " 'notes_right': 'notes',\n",
    " 'start_date_right': 'start_date',\n",
    " 'recid_right': 24}"
   ]
  },
  {
   "cell_type": "code",
   "execution_count": 26,
   "metadata": {},
   "outputs": [],
   "source": [
    "matched_results.rename(columns=fields,inplace=True)"
   ]
  },
  {
   "cell_type": "code",
   "execution_count": 27,
   "metadata": {},
   "outputs": [],
   "source": [
    "matched_results = matched_results[[\"trans_date\"\n",
    "                                   ,\"description\"\n",
    "                                   ,\"original_description\"\n",
    "                                   ,\"amount\"\n",
    "                                   ,\"transaction_type\"\n",
    "                                   ,\"category\"\n",
    "                                   ,\"account_name\"\n",
    "                                   ,\"labels\"\n",
    "                                   ,\"notes\"\n",
    "                                   ,'recid'\n",
    "                                   ,'start_date']]"
   ]
  },
  {
   "cell_type": "code",
   "execution_count": 28,
   "metadata": {},
   "outputs": [
    {
     "data": {
      "text/plain": [
       "trans_date                   datetime64[ns]\n",
       "description                          object\n",
       "original_description                 object\n",
       "amount                              float64\n",
       "transaction_type                     object\n",
       "category                             object\n",
       "account_name                         object\n",
       "labels                               object\n",
       "notes                                object\n",
       "recid                                object\n",
       "start_date              datetime64[ns, UTC]\n",
       "dtype: object"
      ]
     },
     "execution_count": 28,
     "metadata": {},
     "output_type": "execute_result"
    }
   ],
   "source": [
    "matched_results.dtypes"
   ]
  },
  {
   "cell_type": "code",
   "execution_count": 29,
   "metadata": {},
   "outputs": [
    {
     "data": {
      "text/plain": [
       "144a0dc1-c499-11eb-b37f-503f5601116a    1\n",
       "1470a2da-c499-11eb-be3a-503f5601116a    1\n",
       "14226774-c499-11eb-a8c3-503f5601116a    1\n",
       "143cc99e-c499-11eb-aff2-503f5601116a    1\n",
       "144b47a1-c499-11eb-b3d5-503f5601116a    1\n",
       "                                       ..\n",
       "14533433-c499-11eb-b60a-503f5601116a    1\n",
       "1450eb64-c499-11eb-b564-503f5601116a    1\n",
       "1470c9e3-c499-11eb-be48-503f5601116a    1\n",
       "14409ab2-c499-11eb-b0fc-503f5601116a    1\n",
       "145b23a7-c499-11eb-b845-503f5601116a    1\n",
       "Name: recid, Length: 648, dtype: int64"
      ]
     },
     "execution_count": 29,
     "metadata": {},
     "output_type": "execute_result"
    }
   ],
   "source": [
    "matched_results.recid.value_counts()"
   ]
  },
  {
   "cell_type": "code",
   "execution_count": 30,
   "metadata": {},
   "outputs": [],
   "source": [
    "matched_results.drop_duplicates(inplace=True)"
   ]
  },
  {
   "cell_type": "code",
   "execution_count": 31,
   "metadata": {},
   "outputs": [
    {
     "data": {
      "text/plain": [
       "2021-06-10 18:22:00.084606+00:00    648\n",
       "Name: start_date, dtype: int64"
      ]
     },
     "execution_count": 31,
     "metadata": {},
     "output_type": "execute_result"
    }
   ],
   "source": [
    "matched_results.start_date.value_counts()"
   ]
  },
  {
   "cell_type": "code",
   "execution_count": 32,
   "metadata": {},
   "outputs": [],
   "source": [
    "matched_results.to_sql(name='transactions_history',\n",
    "                        con=main.engine\n",
    "                        ,schema='mint'\n",
    "                        ,if_exists='append'\n",
    "                        ,dtype=dtypes\n",
    "                        ,index=False)"
   ]
  },
  {
   "cell_type": "code",
   "execution_count": 36,
   "metadata": {},
   "outputs": [
    {
     "data": {
      "text/html": [
       "<div>\n",
       "<style scoped>\n",
       "    .dataframe tbody tr th:only-of-type {\n",
       "        vertical-align: middle;\n",
       "    }\n",
       "\n",
       "    .dataframe tbody tr th {\n",
       "        vertical-align: top;\n",
       "    }\n",
       "\n",
       "    .dataframe thead th {\n",
       "        text-align: right;\n",
       "    }\n",
       "</style>\n",
       "<table border=\"1\" class=\"dataframe\">\n",
       "  <thead>\n",
       "    <tr style=\"text-align: right;\">\n",
       "      <th></th>\n",
       "      <th>trans_date</th>\n",
       "      <th>description</th>\n",
       "      <th>original_description</th>\n",
       "      <th>amount</th>\n",
       "      <th>transaction_type</th>\n",
       "      <th>category</th>\n",
       "      <th>account_name</th>\n",
       "      <th>labels</th>\n",
       "      <th>notes</th>\n",
       "      <th>recid</th>\n",
       "      <th>start_date</th>\n",
       "    </tr>\n",
       "  </thead>\n",
       "  <tbody>\n",
       "    <tr>\n",
       "      <th>0</th>\n",
       "      <td>2021-04-05</td>\n",
       "      <td>BALLARD COFFEE WORK Seattle WA 04/04</td>\n",
       "      <td>SQ *BALLARD COFFEE WORK Seattle</td>\n",
       "      <td>4.13</td>\n",
       "      <td>debit</td>\n",
       "      <td>Coffee Shops</td>\n",
       "      <td>PREMIER PLUS CKG</td>\n",
       "      <td>NaN</td>\n",
       "      <td>NaN</td>\n",
       "      <td>043ca611-aab4-11eb-9943-503f5601116a</td>\n",
       "      <td>2021-05-13 01:30:29.603961+00:00</td>\n",
       "    </tr>\n",
       "    <tr>\n",
       "      <th>323</th>\n",
       "      <td>2021-04-05</td>\n",
       "      <td>BALLARD COFFEE WORK Seattle WA 04/04</td>\n",
       "      <td>SQ *BALLARD COFFEE WORK Seattle</td>\n",
       "      <td>4.13</td>\n",
       "      <td>debit</td>\n",
       "      <td>Coffee Shops</td>\n",
       "      <td>PREMIER PLUS CKG</td>\n",
       "      <td>NaN</td>\n",
       "      <td>NaN</td>\n",
       "      <td>043ca611-aab4-11eb-9943-503f5601116a</td>\n",
       "      <td>2021-05-13 01:30:29.603961+00:00</td>\n",
       "    </tr>\n",
       "  </tbody>\n",
       "</table>\n",
       "</div>"
      ],
      "text/plain": [
       "    trans_date                           description  \\\n",
       "0   2021-04-05  BALLARD COFFEE WORK Seattle WA 04/04   \n",
       "323 2021-04-05  BALLARD COFFEE WORK Seattle WA 04/04   \n",
       "\n",
       "                original_description  amount transaction_type      category  \\\n",
       "0    SQ *BALLARD COFFEE WORK Seattle    4.13            debit  Coffee Shops   \n",
       "323  SQ *BALLARD COFFEE WORK Seattle    4.13            debit  Coffee Shops   \n",
       "\n",
       "         account_name labels notes                                 recid  \\\n",
       "0    PREMIER PLUS CKG    NaN   NaN  043ca611-aab4-11eb-9943-503f5601116a   \n",
       "323  PREMIER PLUS CKG    NaN   NaN  043ca611-aab4-11eb-9943-503f5601116a   \n",
       "\n",
       "                          start_date  \n",
       "0   2021-05-13 01:30:29.603961+00:00  \n",
       "323 2021-05-13 01:30:29.603961+00:00  "
      ]
     },
     "execution_count": 36,
     "metadata": {},
     "output_type": "execute_result"
    }
   ],
   "source": [
    "matched_results[matched_results['recid']=='']"
   ]
  },
  {
   "cell_type": "code",
   "execution_count": null,
   "metadata": {},
   "outputs": [],
   "source": [
    "matched_results.best_match_score.describe()"
   ]
  },
  {
   "cell_type": "code",
   "execution_count": null,
   "metadata": {},
   "outputs": [],
   "source": []
  }
 ],
 "metadata": {
  "kernelspec": {
   "display_name": "Python 3",
   "language": "python",
   "name": "python3"
  },
  "language_info": {
   "codemirror_mode": {
    "name": "ipython",
    "version": 3
   },
   "file_extension": ".py",
   "mimetype": "text/x-python",
   "name": "python",
   "nbconvert_exporter": "python",
   "pygments_lexer": "ipython3",
   "version": "3.8.5"
  }
 },
 "nbformat": 4,
 "nbformat_minor": 4
}
